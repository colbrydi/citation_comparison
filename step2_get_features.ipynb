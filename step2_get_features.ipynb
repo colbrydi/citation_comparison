{
 "cells": [
  {
   "cell_type": "markdown",
   "metadata": {},
   "source": [
    "# Part 1. READ \"match_trt\" and \"match_con\""
   ]
  },
  {
   "cell_type": "code",
   "execution_count": 1,
   "metadata": {},
   "outputs": [
    {
     "name": "stdout",
     "output_type": "stream",
     "text": [
      "(6826, 26) (5132, 26)\n"
     ]
    },
    {
     "data": {
      "text/html": [
       "<div>\n",
       "<style scoped>\n",
       "    .dataframe tbody tr th:only-of-type {\n",
       "        vertical-align: middle;\n",
       "    }\n",
       "\n",
       "    .dataframe tbody tr th {\n",
       "        vertical-align: top;\n",
       "    }\n",
       "\n",
       "    .dataframe thead th {\n",
       "        text-align: right;\n",
       "    }\n",
       "</style>\n",
       "<table border=\"1\" class=\"dataframe\">\n",
       "  <thead>\n",
       "    <tr style=\"text-align: right;\">\n",
       "      <th></th>\n",
       "      <th>paper_url</th>\n",
       "      <th>arxiv_id</th>\n",
       "      <th>title</th>\n",
       "      <th>abstract</th>\n",
       "      <th>url_abs</th>\n",
       "      <th>url_pdf</th>\n",
       "      <th>proceeding</th>\n",
       "      <th>authors</th>\n",
       "      <th>tasks</th>\n",
       "      <th>date</th>\n",
       "      <th>...</th>\n",
       "      <th>doi</th>\n",
       "      <th>venue_raw</th>\n",
       "      <th>venue_id</th>\n",
       "      <th>venue_type</th>\n",
       "      <th>authors_name</th>\n",
       "      <th>authors_id</th>\n",
       "      <th>authors_org</th>\n",
       "      <th>fos_name</th>\n",
       "      <th>fos_w</th>\n",
       "      <th>ref</th>\n",
       "    </tr>\n",
       "  </thead>\n",
       "  <tbody>\n",
       "    <tr>\n",
       "      <td>0</td>\n",
       "      <td>https://paperswithcode.com/paper/large-scale-p...</td>\n",
       "      <td>1706.03736</td>\n",
       "      <td>large-scale plant classification with deep neu...</td>\n",
       "      <td>This paper discusses the potential of applying...</td>\n",
       "      <td>http://arxiv.org/abs/1706.03736v1</td>\n",
       "      <td>http://arxiv.org/pdf/1706.03736v1.pdf</td>\n",
       "      <td>NaN</td>\n",
       "      <td>['Ignacio Heredia']</td>\n",
       "      <td>[]</td>\n",
       "      <td>2017-06-12</td>\n",
       "      <td>...</td>\n",
       "      <td>10.1145/3075564.3075590</td>\n",
       "      <td>Computing Frontiers</td>\n",
       "      <td>2.626327e+09</td>\n",
       "      <td>C</td>\n",
       "      <td>['Ignacio Heredia']</td>\n",
       "      <td>[2622430314]</td>\n",
       "      <td>['Instituto de Fisica de Cantabria (CSIC-UC), ...</td>\n",
       "      <td>['Fork (system call)', 'Data mining', 'Compute...</td>\n",
       "      <td>[Decimal('0.4434'), Decimal('0.45259'), Decima...</td>\n",
       "      <td>[1522301498, 1556850077, 1606347560, 191666523...</td>\n",
       "    </tr>\n",
       "    <tr>\n",
       "      <td>1</td>\n",
       "      <td>https://paperswithcode.com/paper/deep-boltzman...</td>\n",
       "      <td>1509.06535</td>\n",
       "      <td>deep boltzmann machines in estimation of distr...</td>\n",
       "      <td>Estimation of Distribution Algorithms (EDAs) r...</td>\n",
       "      <td>http://arxiv.org/abs/1509.06535v2</td>\n",
       "      <td>http://arxiv.org/pdf/1509.06535v2.pdf</td>\n",
       "      <td>NaN</td>\n",
       "      <td>['Malte Probst', 'Franz Rothlauf']</td>\n",
       "      <td>['Combinatorial Optimization']</td>\n",
       "      <td>2015-09-22</td>\n",
       "      <td>...</td>\n",
       "      <td>NaN</td>\n",
       "      <td>Neural and Evolutionary Computing</td>\n",
       "      <td>2.596710e+09</td>\n",
       "      <td>J</td>\n",
       "      <td>['Malte Probst', 'Franz Rothlauf']</td>\n",
       "      <td>[2137666597, 2171731261]</td>\n",
       "      <td>[]</td>\n",
       "      <td>['Convergence (routing)', 'Estimation of distr...</td>\n",
       "      <td>[Decimal('0.48188'), Decimal('0.60781'), Decim...</td>\n",
       "      <td>[157468466, 189596042, 1536712125, 1597878669,...</td>\n",
       "    </tr>\n",
       "  </tbody>\n",
       "</table>\n",
       "<p>2 rows × 26 columns</p>\n",
       "</div>"
      ],
      "text/plain": [
       "                                           paper_url    arxiv_id  \\\n",
       "0  https://paperswithcode.com/paper/large-scale-p...  1706.03736   \n",
       "1  https://paperswithcode.com/paper/deep-boltzman...  1509.06535   \n",
       "\n",
       "                                               title  \\\n",
       "0  large-scale plant classification with deep neu...   \n",
       "1  deep boltzmann machines in estimation of distr...   \n",
       "\n",
       "                                            abstract  \\\n",
       "0  This paper discusses the potential of applying...   \n",
       "1  Estimation of Distribution Algorithms (EDAs) r...   \n",
       "\n",
       "                             url_abs                                url_pdf  \\\n",
       "0  http://arxiv.org/abs/1706.03736v1  http://arxiv.org/pdf/1706.03736v1.pdf   \n",
       "1  http://arxiv.org/abs/1509.06535v2  http://arxiv.org/pdf/1509.06535v2.pdf   \n",
       "\n",
       "  proceeding                             authors  \\\n",
       "0        NaN                 ['Ignacio Heredia']   \n",
       "1        NaN  ['Malte Probst', 'Franz Rothlauf']   \n",
       "\n",
       "                            tasks        date  ...                      doi  \\\n",
       "0                              []  2017-06-12  ...  10.1145/3075564.3075590   \n",
       "1  ['Combinatorial Optimization']  2015-09-22  ...                      NaN   \n",
       "\n",
       "                           venue_raw      venue_id venue_type  \\\n",
       "0                Computing Frontiers  2.626327e+09          C   \n",
       "1  Neural and Evolutionary Computing  2.596710e+09          J   \n",
       "\n",
       "                         authors_name                authors_id  \\\n",
       "0                 ['Ignacio Heredia']              [2622430314]   \n",
       "1  ['Malte Probst', 'Franz Rothlauf']  [2137666597, 2171731261]   \n",
       "\n",
       "                                         authors_org  \\\n",
       "0  ['Instituto de Fisica de Cantabria (CSIC-UC), ...   \n",
       "1                                                 []   \n",
       "\n",
       "                                            fos_name  \\\n",
       "0  ['Fork (system call)', 'Data mining', 'Compute...   \n",
       "1  ['Convergence (routing)', 'Estimation of distr...   \n",
       "\n",
       "                                               fos_w  \\\n",
       "0  [Decimal('0.4434'), Decimal('0.45259'), Decima...   \n",
       "1  [Decimal('0.48188'), Decimal('0.60781'), Decim...   \n",
       "\n",
       "                                                 ref  \n",
       "0  [1522301498, 1556850077, 1606347560, 191666523...  \n",
       "1  [157468466, 189596042, 1536712125, 1597878669,...  \n",
       "\n",
       "[2 rows x 26 columns]"
      ]
     },
     "execution_count": 1,
     "metadata": {},
     "output_type": "execute_result"
    }
   ],
   "source": [
    "import pandas as pd\n",
    "import numpy as np\n",
    "\n",
    "## READ \"match_trt\" and \"match_con\"\n",
    "df_trt = pd.read_csv('./Test_data/src_data/match_trt_df.csv')\n",
    "df_con = pd.read_csv('./Test_data/src_data/match_con_df.csv')\n",
    "print( df_trt.shape, df_con.shape)\n",
    "\n",
    "# examples\n",
    "df_trt.head(2)"
   ]
  },
  {
   "cell_type": "code",
   "execution_count": 2,
   "metadata": {},
   "outputs": [
    {
     "data": {
      "text/plain": [
       "(11958, 27)"
      ]
     },
     "execution_count": 2,
     "metadata": {},
     "output_type": "execute_result"
    }
   ],
   "source": [
    "## Assign \"group\" variable for Treated/control index \n",
    "df_trt['group']= 1\n",
    "df_con['group']= 0\n",
    "\n",
    "## Stack both trt and control data as \"df_all\"\n",
    "df_all = pd.concat([df_trt, df_con], axis = 0, ignore_index=True)\n",
    "df_all.shape"
   ]
  },
  {
   "cell_type": "code",
   "execution_count": 3,
   "metadata": {},
   "outputs": [
    {
     "data": {
      "text/plain": [
       "group  year\n",
       "0      1995       1\n",
       "       1997       2\n",
       "       1998       1\n",
       "       1999       1\n",
       "       2000       1\n",
       "       2002       3\n",
       "       2003       2\n",
       "       2006       2\n",
       "       2007       1\n",
       "       2008       4\n",
       "       2009       3\n",
       "       2010       8\n",
       "       2011      17\n",
       "       2012      35\n",
       "       2013      47\n",
       "       2014     109\n",
       "       2015     253\n",
       "       2016     516\n",
       "       2017    1077\n",
       "       2018    1937\n",
       "       2019    1111\n",
       "       2020       1\n",
       "1      2012       4\n",
       "       2013      23\n",
       "       2014      69\n",
       "       2015     267\n",
       "       2016     716\n",
       "       2017    1410\n",
       "       2018    2574\n",
       "       2019    1741\n",
       "       2020      22\n",
       "dtype: int64"
      ]
     },
     "execution_count": 3,
     "metadata": {},
     "output_type": "execute_result"
    }
   ],
   "source": [
    "## create \"year\" value\n",
    "df_all['year'] = df_all['date'].str[:4].astype(int)\n",
    "df_all.groupby(['group', 'year']).size()"
   ]
  },
  {
   "cell_type": "markdown",
   "metadata": {},
   "source": [
    "Based on above published-year distributions, I study the year-range during the **2016-2018** period based on two reasons below: \n",
    "- 1) starting from 2016, there were more papers that mentioned codes in our sample data; \n",
    "- 2) the number of citations are also sensitive to the publish years. For instance, those papers published in 2019 might need more time to validate their acedamic influences in terms of citations. "
   ]
  },
  {
   "cell_type": "code",
   "execution_count": 4,
   "metadata": {},
   "outputs": [
    {
     "name": "stdout",
     "output_type": "stream",
     "text": [
      "(8230, 28)\n"
     ]
    },
    {
     "data": {
      "text/plain": [
       "group  year\n",
       "0      2016     516\n",
       "       2017    1077\n",
       "       2018    1937\n",
       "1      2016     716\n",
       "       2017    1410\n",
       "       2018    2574\n",
       "dtype: int64"
      ]
     },
     "execution_count": 4,
     "metadata": {},
     "output_type": "execute_result"
    }
   ],
   "source": [
    "## 2016-2018 period -- DT\n",
    "DT = df_all.loc[ (df_all['year'] >= 2016) & (df_all['year'] <= 2018), :]\n",
    "print( DT.shape )\n",
    "DT.groupby(['group', 'year']).size()"
   ]
  },
  {
   "cell_type": "markdown",
   "metadata": {},
   "source": [
    "**To Dos:**\n",
    "- describe variables ??"
   ]
  },
  {
   "cell_type": "markdown",
   "metadata": {},
   "source": [
    "# Part 2. Feature Extraction_simple\n",
    "**Dependent Variable (DV)**\n",
    "- n_citation: number of citation\n",
    "\n",
    "**MAIN IV**\n",
    "- group: whether the paper mentions code in paper?\n",
    "\n",
    "**CREATE Basic features**\n",
    "- 1) title_len: title length\n",
    "- 2) abs_len: abstract length\n",
    "\n",
    "\n",
    "- 3) no_author: number of authors\n",
    "- 4) no_affi:   number of affiliations --> too much unknown (drop this variable)\n",
    "- 5) no_ref:    number of references given by the dblp data"
   ]
  },
  {
   "cell_type": "code",
   "execution_count": 5,
   "metadata": {},
   "outputs": [
    {
     "name": "stdout",
     "output_type": "stream",
     "text": [
      "Index(['paper_url', 'arxiv_id', 'title', 'abstract', 'url_abs', 'url_pdf',\n",
      "       'proceeding', 'authors', 'tasks', 'date', 'id', 'n_citation',\n",
      "       'doc_type', 'publisher', 'volume', 'issue', 'doi', 'venue_raw',\n",
      "       'venue_id', 'venue_type', 'authors_name', 'authors_id', 'authors_org',\n",
      "       'fos_name', 'fos_w', 'ref', 'group', 'year'],\n",
      "      dtype='object')\n"
     ]
    },
    {
     "data": {
      "text/html": [
       "<div>\n",
       "<style scoped>\n",
       "    .dataframe tbody tr th:only-of-type {\n",
       "        vertical-align: middle;\n",
       "    }\n",
       "\n",
       "    .dataframe tbody tr th {\n",
       "        vertical-align: top;\n",
       "    }\n",
       "\n",
       "    .dataframe thead th {\n",
       "        text-align: right;\n",
       "    }\n",
       "</style>\n",
       "<table border=\"1\" class=\"dataframe\">\n",
       "  <thead>\n",
       "    <tr style=\"text-align: right;\">\n",
       "      <th></th>\n",
       "      <th>paper_url</th>\n",
       "      <th>arxiv_id</th>\n",
       "      <th>title</th>\n",
       "      <th>abstract</th>\n",
       "      <th>url_abs</th>\n",
       "      <th>url_pdf</th>\n",
       "      <th>proceeding</th>\n",
       "      <th>authors</th>\n",
       "      <th>tasks</th>\n",
       "      <th>date</th>\n",
       "      <th>...</th>\n",
       "      <th>venue_id</th>\n",
       "      <th>venue_type</th>\n",
       "      <th>authors_name</th>\n",
       "      <th>authors_id</th>\n",
       "      <th>authors_org</th>\n",
       "      <th>fos_name</th>\n",
       "      <th>fos_w</th>\n",
       "      <th>ref</th>\n",
       "      <th>group</th>\n",
       "      <th>year</th>\n",
       "    </tr>\n",
       "  </thead>\n",
       "  <tbody>\n",
       "    <tr>\n",
       "      <td>0</td>\n",
       "      <td>https://paperswithcode.com/paper/large-scale-p...</td>\n",
       "      <td>1706.04</td>\n",
       "      <td>large-scale plant classification with deep neu...</td>\n",
       "      <td>This paper discusses the potential of applying...</td>\n",
       "      <td>http://arxiv.org/abs/1706.03736v1</td>\n",
       "      <td>http://arxiv.org/pdf/1706.03736v1.pdf</td>\n",
       "      <td>NaN</td>\n",
       "      <td>['Ignacio Heredia']</td>\n",
       "      <td>[]</td>\n",
       "      <td>2017-06-12</td>\n",
       "      <td>...</td>\n",
       "      <td>2.626327e+09</td>\n",
       "      <td>C</td>\n",
       "      <td>['Ignacio Heredia']</td>\n",
       "      <td>[2622430314]</td>\n",
       "      <td>['Instituto de Fisica de Cantabria (CSIC-UC), ...</td>\n",
       "      <td>['Fork (system call)', 'Data mining', 'Compute...</td>\n",
       "      <td>[Decimal('0.4434'), Decimal('0.45259'), Decima...</td>\n",
       "      <td>[1522301498, 1556850077, 1606347560, 191666523...</td>\n",
       "      <td>1</td>\n",
       "      <td>2017</td>\n",
       "    </tr>\n",
       "  </tbody>\n",
       "</table>\n",
       "<p>1 rows × 28 columns</p>\n",
       "</div>"
      ],
      "text/plain": [
       "                                           paper_url arxiv_id  \\\n",
       "0  https://paperswithcode.com/paper/large-scale-p...  1706.04   \n",
       "\n",
       "                                               title  \\\n",
       "0  large-scale plant classification with deep neu...   \n",
       "\n",
       "                                            abstract  \\\n",
       "0  This paper discusses the potential of applying...   \n",
       "\n",
       "                             url_abs                                url_pdf  \\\n",
       "0  http://arxiv.org/abs/1706.03736v1  http://arxiv.org/pdf/1706.03736v1.pdf   \n",
       "\n",
       "  proceeding              authors tasks        date  ...      venue_id  \\\n",
       "0        NaN  ['Ignacio Heredia']    []  2017-06-12  ...  2.626327e+09   \n",
       "\n",
       "   venue_type         authors_name    authors_id  \\\n",
       "0           C  ['Ignacio Heredia']  [2622430314]   \n",
       "\n",
       "                                         authors_org  \\\n",
       "0  ['Instituto de Fisica de Cantabria (CSIC-UC), ...   \n",
       "\n",
       "                                            fos_name  \\\n",
       "0  ['Fork (system call)', 'Data mining', 'Compute...   \n",
       "\n",
       "                                               fos_w  \\\n",
       "0  [Decimal('0.4434'), Decimal('0.45259'), Decima...   \n",
       "\n",
       "                                                 ref  group  year  \n",
       "0  [1522301498, 1556850077, 1606347560, 191666523...      1  2017  \n",
       "\n",
       "[1 rows x 28 columns]"
      ]
     },
     "execution_count": 5,
     "metadata": {},
     "output_type": "execute_result"
    }
   ],
   "source": [
    "print( DT.keys() )\n",
    "DT.head(1)"
   ]
  },
  {
   "cell_type": "code",
   "execution_count": 6,
   "metadata": {},
   "outputs": [
    {
     "name": "stdout",
     "output_type": "stream",
     "text": [
      "\n",
      " The number of unknown abstracts: 140, \n",
      "       so I remove those samples with unknown abstracts info\n",
      "\n",
      " The percentage of unknown authors_affilations: 77%, \n",
      "       so I drop this feature\n"
     ]
    }
   ],
   "source": [
    "DT = DT.fillna('NA')\n",
    "\n",
    "# 1) title_len: title length\n",
    "DT.loc[:, 'title_len'] = DT['title'].apply(lambda x: len(x.strip().split()) )\n",
    "\n",
    "# 2) abs_len: abstract length  --- ????\n",
    "def get_abslen(x):\n",
    "    if x == 'NA':\n",
    "        return 'NA'\n",
    "    else:\n",
    "        return len( x.strip().split() ) \n",
    "DT.loc[:, 'abs_len'] = DT['abstract'].apply(lambda x: get_abslen(x) )\n",
    "print( '\\n', 'The number of unknown abstracts: {}, \\n \\\n",
    "      so I remove those samples with unknown abstracts info'.format( \n",
    "           sum(DT['abs_len'] == 'NA'))  ) \n",
    "DT = DT.loc[DT['abs_len'] != 'NA', :]\n",
    "\n",
    "# 3) no_author: number of authors\n",
    "DT.loc[:, 'no_author'] = DT['authors_name'].apply(lambda x: len(x) )\n",
    "\n",
    "# 4) no_affi: number of affiliations\n",
    "print( '\\n', 'The percentage of unknown authors_affilations: {}%, \\n \\\n",
    "      so I drop this feature'.format( \n",
    "           round( sum( DT['authors_org'] == '[]' )/DT.shape[0] * 100), 2)) \n",
    "\n",
    "# 5) no_ref: number of references given by the dblp data\n",
    "DT.loc[:, 'no_ref'] = DT['ref'].apply(lambda x: len(x) )"
   ]
  },
  {
   "cell_type": "code",
   "execution_count": 7,
   "metadata": {},
   "outputs": [
    {
     "name": "stdout",
     "output_type": "stream",
     "text": [
      "(8090, 6)\n"
     ]
    },
    {
     "data": {
      "text/html": [
       "<div>\n",
       "<style scoped>\n",
       "    .dataframe tbody tr th:only-of-type {\n",
       "        vertical-align: middle;\n",
       "    }\n",
       "\n",
       "    .dataframe tbody tr th {\n",
       "        vertical-align: top;\n",
       "    }\n",
       "\n",
       "    .dataframe thead th {\n",
       "        text-align: right;\n",
       "    }\n",
       "</style>\n",
       "<table border=\"1\" class=\"dataframe\">\n",
       "  <thead>\n",
       "    <tr style=\"text-align: right;\">\n",
       "      <th></th>\n",
       "      <th>n_citation</th>\n",
       "      <th>group</th>\n",
       "      <th>title_len</th>\n",
       "      <th>abs_len</th>\n",
       "      <th>no_author</th>\n",
       "      <th>no_ref</th>\n",
       "    </tr>\n",
       "  </thead>\n",
       "  <tbody>\n",
       "    <tr>\n",
       "      <td>0</td>\n",
       "      <td>1</td>\n",
       "      <td>1</td>\n",
       "      <td>7</td>\n",
       "      <td>95</td>\n",
       "      <td>19</td>\n",
       "      <td>168</td>\n",
       "    </tr>\n",
       "    <tr>\n",
       "      <td>2</td>\n",
       "      <td>0</td>\n",
       "      <td>1</td>\n",
       "      <td>11</td>\n",
       "      <td>104</td>\n",
       "      <td>95</td>\n",
       "      <td>264</td>\n",
       "    </tr>\n",
       "    <tr>\n",
       "      <td>5</td>\n",
       "      <td>9</td>\n",
       "      <td>1</td>\n",
       "      <td>7</td>\n",
       "      <td>201</td>\n",
       "      <td>33</td>\n",
       "      <td>405</td>\n",
       "    </tr>\n",
       "    <tr>\n",
       "      <td>6</td>\n",
       "      <td>6</td>\n",
       "      <td>1</td>\n",
       "      <td>9</td>\n",
       "      <td>226</td>\n",
       "      <td>52</td>\n",
       "      <td>143</td>\n",
       "    </tr>\n",
       "    <tr>\n",
       "      <td>7</td>\n",
       "      <td>2</td>\n",
       "      <td>1</td>\n",
       "      <td>7</td>\n",
       "      <td>94</td>\n",
       "      <td>16</td>\n",
       "      <td>155</td>\n",
       "    </tr>\n",
       "  </tbody>\n",
       "</table>\n",
       "</div>"
      ],
      "text/plain": [
       "   n_citation  group  title_len abs_len  no_author  no_ref\n",
       "0           1      1          7      95         19     168\n",
       "2           0      1         11     104         95     264\n",
       "5           9      1          7     201         33     405\n",
       "6           6      1          9     226         52     143\n",
       "7           2      1          7      94         16     155"
      ]
     },
     "execution_count": 7,
     "metadata": {},
     "output_type": "execute_result"
    }
   ],
   "source": [
    "## get \"DT_base\" : DT with Basic features\n",
    "DT_base = DT[['n_citation', 'group', 'title_len', 'abs_len', 'no_author',\n",
    "             'no_ref']]\n",
    "print(DT_base.shape)\n",
    "DT_base.head()"
   ]
  },
  {
   "cell_type": "code",
   "execution_count": 162,
   "metadata": {},
   "outputs": [],
   "source": [
    "### SAVE DT_base\n",
    "DT_base.to_csv('./Test_data/src_data/DT_base.csv', index=False)\n"
   ]
  },
  {
   "cell_type": "markdown",
   "metadata": {},
   "source": [
    "# Part 3. Feature Extraction_LDA\n",
    "- 6) unsupervised Topic Modeling using abstract data?"
   ]
  },
  {
   "cell_type": "code",
   "execution_count": 9,
   "metadata": {},
   "outputs": [
    {
     "name": "stderr",
     "output_type": "stream",
     "text": [
      "[nltk_data] Downloading package stopwords to\n",
      "[nltk_data]     C:\\Users\\chenj107\\AppData\\Roaming\\nltk_data...\n",
      "[nltk_data]   Unzipping corpora\\stopwords.zip.\n"
     ]
    },
    {
     "data": {
      "text/plain": [
       "True"
      ]
     },
     "execution_count": 9,
     "metadata": {},
     "output_type": "execute_result"
    }
   ],
   "source": [
    "import os\n",
    "import nltk\n",
    "from nltk import FreqDist\n",
    "nltk.download('stopwords')"
   ]
  },
  {
   "cell_type": "code",
   "execution_count": 16,
   "metadata": {},
   "outputs": [
    {
     "name": "stdout",
     "output_type": "stream",
     "text": [
      "Requirement already satisfied: spacy in c:\\users\\chenj107\\appdata\\local\\continuum\\anaconda3\\lib\\site-packages (2.3.4)\n",
      "Requirement already satisfied: srsly<1.1.0,>=1.0.2 in c:\\users\\chenj107\\appdata\\local\\continuum\\anaconda3\\lib\\site-packages (from spacy) (1.0.4)\n",
      "Requirement already satisfied: thinc<7.5.0,>=7.4.1 in c:\\users\\chenj107\\appdata\\local\\continuum\\anaconda3\\lib\\site-packages (from spacy) (7.4.3)\n",
      "Requirement already satisfied: preshed<3.1.0,>=3.0.2 in c:\\users\\chenj107\\appdata\\local\\continuum\\anaconda3\\lib\\site-packages (from spacy) (3.0.4)\n",
      "Requirement already satisfied: cymem<2.1.0,>=2.0.2 in c:\\users\\chenj107\\appdata\\local\\continuum\\anaconda3\\lib\\site-packages (from spacy) (2.0.4)\n",
      "Requirement already satisfied: plac<1.2.0,>=0.9.6 in c:\\users\\chenj107\\appdata\\local\\continuum\\anaconda3\\lib\\site-packages (from spacy) (1.1.3)\n",
      "Requirement already satisfied: blis<0.8.0,>=0.4.0; python_version >= \"3.6\" in c:\\users\\chenj107\\appdata\\local\\continuum\\anaconda3\\lib\\site-packages (from spacy) (0.7.3)\n",
      "Requirement already satisfied: setuptools in c:\\users\\chenj107\\appdata\\local\\continuum\\anaconda3\\lib\\site-packages (from spacy) (41.4.0)\n",
      "Requirement already satisfied: catalogue<1.1.0,>=0.0.7 in c:\\users\\chenj107\\appdata\\local\\continuum\\anaconda3\\lib\\site-packages (from spacy) (1.0.0)\n",
      "Requirement already satisfied: numpy>=1.15.0 in c:\\users\\chenj107\\appdata\\local\\continuum\\anaconda3\\lib\\site-packages (from spacy) (1.16.5)\n",
      "Requirement already satisfied: requests<3.0.0,>=2.13.0 in c:\\users\\chenj107\\appdata\\local\\continuum\\anaconda3\\lib\\site-packages (from spacy) (2.22.0)\n",
      "Requirement already satisfied: murmurhash<1.1.0,>=0.28.0 in c:\\users\\chenj107\\appdata\\local\\continuum\\anaconda3\\lib\\site-packages (from spacy) (1.0.4)\n",
      "Requirement already satisfied: tqdm<5.0.0,>=4.38.0 in c:\\users\\chenj107\\appdata\\local\\continuum\\anaconda3\\lib\\site-packages (from spacy) (4.54.0)\n",
      "Requirement already satisfied: wasabi<1.1.0,>=0.4.0 in c:\\users\\chenj107\\appdata\\local\\continuum\\anaconda3\\lib\\site-packages (from spacy) (0.8.0)\n",
      "Requirement already satisfied: importlib-metadata>=0.20; python_version < \"3.8\" in c:\\users\\chenj107\\appdata\\local\\continuum\\anaconda3\\lib\\site-packages (from catalogue<1.1.0,>=0.0.7->spacy) (0.23)\n",
      "Requirement already satisfied: idna<2.9,>=2.5 in c:\\users\\chenj107\\appdata\\local\\continuum\\anaconda3\\lib\\site-packages (from requests<3.0.0,>=2.13.0->spacy) (2.8)\n",
      "Requirement already satisfied: urllib3!=1.25.0,!=1.25.1,<1.26,>=1.21.1 in c:\\users\\chenj107\\appdata\\local\\continuum\\anaconda3\\lib\\site-packages (from requests<3.0.0,>=2.13.0->spacy) (1.24.2)\n",
      "Requirement already satisfied: certifi>=2017.4.17 in c:\\users\\chenj107\\appdata\\local\\continuum\\anaconda3\\lib\\site-packages (from requests<3.0.0,>=2.13.0->spacy) (2019.9.11)\n",
      "Requirement already satisfied: chardet<3.1.0,>=3.0.2 in c:\\users\\chenj107\\appdata\\local\\continuum\\anaconda3\\lib\\site-packages (from requests<3.0.0,>=2.13.0->spacy) (3.0.4)\n",
      "Requirement already satisfied: zipp>=0.5 in c:\\users\\chenj107\\appdata\\local\\continuum\\anaconda3\\lib\\site-packages (from importlib-metadata>=0.20; python_version < \"3.8\"->catalogue<1.1.0,>=0.0.7->spacy) (0.6.0)\n",
      "Requirement already satisfied: more-itertools in c:\\users\\chenj107\\appdata\\local\\continuum\\anaconda3\\lib\\site-packages (from zipp>=0.5->importlib-metadata>=0.20; python_version < \"3.8\"->catalogue<1.1.0,>=0.0.7->spacy) (7.2.0)\n",
      "Collecting gensim\n",
      "  Downloading https://files.pythonhosted.org/packages/0b/66/04faeedb98bfa5f241d0399d0102456886179cabac0355475f23a2978847/gensim-3.8.3-cp37-cp37m-win_amd64.whl (24.2MB)\n",
      "Requirement already satisfied: scipy>=0.18.1 in c:\\users\\chenj107\\appdata\\local\\continuum\\anaconda3\\lib\\site-packages (from gensim) (1.3.1)\n",
      "Collecting smart-open>=1.8.1 (from gensim)\n",
      "  Downloading https://files.pythonhosted.org/packages/e3/cf/6311dfb0aff3e295d63930dea72e3029800242cdfe0790478e33eccee2ab/smart_open-4.0.1.tar.gz (117kB)\n",
      "Collecting Cython==0.29.14 (from gensim)\n",
      "  Downloading https://files.pythonhosted.org/packages/1f/be/b14be5c3ad1ff73096b518be1538282f053ec34faaca60a8753d975d7e93/Cython-0.29.14-cp37-cp37m-win_amd64.whl (1.7MB)\n",
      "Requirement already satisfied: numpy>=1.11.3 in c:\\users\\chenj107\\appdata\\local\\continuum\\anaconda3\\lib\\site-packages (from gensim) (1.16.5)\n",
      "Requirement already satisfied: six>=1.5.0 in c:\\users\\chenj107\\appdata\\local\\continuum\\anaconda3\\lib\\site-packages (from gensim) (1.12.0)\n",
      "Building wheels for collected packages: smart-open\n",
      "  Building wheel for smart-open (setup.py): started\n",
      "  Building wheel for smart-open (setup.py): finished with status 'done'\n",
      "  Created wheel for smart-open: filename=smart_open-4.0.1-cp37-none-any.whl size=108255 sha256=911d845a46ffb39334b1036731b401ca7e24801eed0c60e3acc19da0bdd42e37\n",
      "  Stored in directory: C:\\Users\\chenj107\\AppData\\Local\\pip\\Cache\\wheels\\ce\\2e\\f2\\edb1bbf046cfa865406b6d62f56bb9ae9052fa53b29648fb39\n",
      "Successfully built smart-open\n",
      "Installing collected packages: smart-open, Cython, gensim\n",
      "  Found existing installation: Cython 0.29.13\n",
      "    Uninstalling Cython-0.29.13:\n",
      "      Successfully uninstalled Cython-0.29.13\n",
      "Successfully installed Cython-0.29.14 gensim-3.8.3 smart-open-4.0.1\n"
     ]
    }
   ],
   "source": [
    "!pip install pyldavis \n",
    "!pip install spacy\n",
    "!pip install gensim"
   ]
  },
  {
   "cell_type": "code",
   "execution_count": 17,
   "metadata": {},
   "outputs": [],
   "source": [
    "import pandas as pd\n",
    "pd.set_option(\"display.max_colwidth\", 200)\n",
    "import numpy as np\n",
    "import json\n",
    "import re\n",
    "\n",
    "import spacy\n",
    "\n",
    "import gensim\n",
    "from gensim import corpora\n",
    "\n",
    "import pyLDAvis\n",
    "import pyLDAvis.gensim\n",
    "import matplotlib.pyplot as plt\n",
    "import seaborn as sns\n",
    "%matplotlib inline"
   ]
  },
  {
   "cell_type": "markdown",
   "metadata": {},
   "source": [
    "**Data Preprocessing**"
   ]
  },
  {
   "cell_type": "code",
   "execution_count": 19,
   "metadata": {},
   "outputs": [],
   "source": [
    "# function to plot most frequent terms\n",
    "def freq_words(x, terms = 30):\n",
    "    all_words = ' '.join([text for text in x])  ## --> put all reviews into a very long str\n",
    "    all_words = all_words.split()\n",
    "\n",
    "    ## \"FreqDist()\" built-in function\n",
    "    fdist = FreqDist(all_words)\n",
    "    words_df = pd.DataFrame({'word':list(fdist.keys()), 'count':list(fdist.values())})\n",
    "\n",
    "    # selecting top 30 most frequent words\n",
    "    d = words_df.nlargest(columns=\"count\", n = terms) \n",
    "    plt.figure(figsize=(20,5))\n",
    "    ax = sns.barplot(data=d, x= \"word\", y = \"count\")\n",
    "    ax.set(ylabel = 'Count')\n",
    "    plt.show()\n",
    "\n",
    "# function to remove stopwords\n",
    "def remove_stopwords(rev):\n",
    "    rev_new = \" \".join([i for i in rev if i not in stop_words])\n",
    "    return rev_new"
   ]
  },
  {
   "cell_type": "code",
   "execution_count": 34,
   "metadata": {},
   "outputs": [],
   "source": [
    "## remove unwanted characters, numbers and symbols\n",
    "DT['abstract_clean'] = DT['abstract'].str.replace(\"[^a-zA-Z#]\", \" \")\n",
    "\n",
    "## remove the stopwords and short words (<2 letters) from the abstract\n",
    "from nltk.corpus import stopwords\n",
    "stop_words = stopwords.words('english')\n",
    "\n",
    "# remove short words (length < 3)\n",
    "DT['abstract_clean'] = DT['abstract_clean'].apply(lambda x: ' '.join([w for w in x.split() if len(w)>2]))\n",
    "\n",
    "# remove stopwords from the text\n",
    "abstract = [remove_stopwords(r.split()) for r in DT['abstract_clean'] ]\n",
    "\n",
    "# make entire text lowercase\n",
    "abstract = [r.lower() for r in abstract]"
   ]
  },
  {
   "cell_type": "markdown",
   "metadata": {},
   "source": [
    "Let’s again plot the most frequent words and see if the more significant words have come out."
   ]
  },
  {
   "cell_type": "code",
   "execution_count": 35,
   "metadata": {},
   "outputs": [
    {
     "data": {
      "image/png": "[encoded data removed]",
      "text/plain": [
       "<Figure size 1440x360 with 1 Axes>"
      ]
     },
     "metadata": {
      "needs_background": "light"
     },
     "output_type": "display_data"
    }
   ],
   "source": [
    "freq_words(abstract, 25)"
   ]
  },
  {
   "cell_type": "markdown",
   "metadata": {},
   "source": [
    "**Building an LDA model**"
   ]
  },
  {
   "cell_type": "code",
   "execution_count": 36,
   "metadata": {},
   "outputs": [
    {
     "name": "stdout",
     "output_type": "stream",
     "text": [
      "the total number of abstracts:  8090 \n",
      "\n"
     ]
    }
   ],
   "source": [
    "abstract = pd.Series(abstract).apply(lambda x: x.split())\n",
    "\n",
    "## creating the Term Dictionary of our corpus, \n",
    "#       where every unique term is assigned an inde\n",
    "dictionary = corpora.Dictionary(abstract)\n",
    "\n",
    "## convert the list of abstract into a Document Term Matrix\n",
    "doc_term_matrix = [dictionary.doc2bow(rev) for rev in abstract]\n",
    "\n",
    "print(\"the total number of abstracts: \", len(doc_term_matrix), \"\\n\")\n",
    "# abstract[5], doc_term_matrix[5]"
   ]
  },
  {
   "cell_type": "code",
   "execution_count": 39,
   "metadata": {},
   "outputs": [],
   "source": [
    "# Creating the object for LDA model using gensim library\n",
    "LDA = gensim.models.ldamodel.LdaModel\n",
    "\n",
    "# Build LDA model -- with TWO topics\n",
    "lda_model = LDA(corpus=doc_term_matrix, id2word=dictionary, num_topics=2, random_state=100,\n",
    "                chunksize=1000, passes=50)"
   ]
  },
  {
   "cell_type": "markdown",
   "metadata": {},
   "source": [
    "Let’s print out the topics that our LDA model has learned."
   ]
  },
  {
   "cell_type": "code",
   "execution_count": 40,
   "metadata": {},
   "outputs": [
    {
     "data": {
      "text/plain": [
       "[(0,\n",
       "  '0.009*\"model\" + 0.008*\"image\" + 0.007*\"the\" + 0.007*\"based\" + 0.007*\"network\" + 0.006*\"neural\" + 0.006*\"data\" + 0.006*\"images\" + 0.005*\"state\" + 0.005*\"art\"'),\n",
       " (1,\n",
       "  '0.014*\"learning\" + 0.009*\"data\" + 0.007*\"model\" + 0.006*\"the\" + 0.006*\"networks\" + 0.006*\"deep\" + 0.005*\"training\" + 0.005*\"algorithm\" + 0.005*\"show\" + 0.005*\"models\"')]"
      ]
     },
     "execution_count": 40,
     "metadata": {},
     "output_type": "execute_result"
    }
   ],
   "source": [
    "lda_model.print_topics()"
   ]
  },
  {
   "cell_type": "code",
   "execution_count": 52,
   "metadata": {},
   "outputs": [],
   "source": [
    "## get the document-topic\n",
    "tt = []\n",
    "for rev in abstract:\n",
    "    bow = dictionary.doc2bow(rev)\n",
    "    pred_topic = lda_model.get_document_topics(bow)\n",
    "    if pred_topic[0][1] >= 0.5: \n",
    "        tt.append( 0 ) ## topic 0\n",
    "    else:\n",
    "        tt.append( 1 ) ## topic 1"
   ]
  },
  {
   "cell_type": "code",
   "execution_count": 60,
   "metadata": {},
   "outputs": [
    {
     "name": "stdout",
     "output_type": "stream",
     "text": [
      "(8090, 2)\n"
     ]
    },
    {
     "data": {
      "text/html": [
       "<div>\n",
       "<style scoped>\n",
       "    .dataframe tbody tr th:only-of-type {\n",
       "        vertical-align: middle;\n",
       "    }\n",
       "\n",
       "    .dataframe tbody tr th {\n",
       "        vertical-align: top;\n",
       "    }\n",
       "\n",
       "    .dataframe thead th {\n",
       "        text-align: right;\n",
       "    }\n",
       "</style>\n",
       "<table border=\"1\" class=\"dataframe\">\n",
       "  <thead>\n",
       "    <tr style=\"text-align: right;\">\n",
       "      <th></th>\n",
       "      <th>abstract</th>\n",
       "      <th>abstract_topic</th>\n",
       "    </tr>\n",
       "  </thead>\n",
       "  <tbody>\n",
       "    <tr>\n",
       "      <td>0</td>\n",
       "      <td>This paper discusses the potential of applying deep learning techniques for\\nplant classification and its usage for citizen science in large-scale\\nbiodiversity monitoring. We show that plant clas...</td>\n",
       "      <td>0</td>\n",
       "    </tr>\n",
       "    <tr>\n",
       "      <td>2</td>\n",
       "      <td>This paper presents an approach combining lexico-semantic resources and\\ndistributed representations of words applied to the evaluation in machine\\ntranslation (MT). This study is made through the...</td>\n",
       "      <td>0</td>\n",
       "    </tr>\n",
       "  </tbody>\n",
       "</table>\n",
       "</div>"
      ],
      "text/plain": [
       "                                                                                                                                                                                                  abstract  \\\n",
       "0  This paper discusses the potential of applying deep learning techniques for\\nplant classification and its usage for citizen science in large-scale\\nbiodiversity monitoring. We show that plant clas...   \n",
       "2  This paper presents an approach combining lexico-semantic resources and\\ndistributed representations of words applied to the evaluation in machine\\ntranslation (MT). This study is made through the...   \n",
       "\n",
       "   abstract_topic  \n",
       "0               0  \n",
       "2               0  "
      ]
     },
     "execution_count": 60,
     "metadata": {},
     "output_type": "execute_result"
    }
   ],
   "source": [
    "DT['abstract_topic'] = tt\n",
    "DT_cplx = DT[['abstract', 'abstract_topic']]\n",
    "print(DT_cplx.shape)\n",
    "DT_cplx.head(2)"
   ]
  },
  {
   "cell_type": "code",
   "execution_count": 61,
   "metadata": {},
   "outputs": [],
   "source": [
    "### SAVE DT_cplx\n",
    "DT_cplx.to_csv('./Test_data/src_data/DT_cplx.csv', index=False)"
   ]
  }
 ],
 "metadata": {
  "kernelspec": {
   "display_name": "Python 3",
   "language": "python",
   "name": "python3"
  },
  "language_info": {
   "codemirror_mode": {
    "name": "ipython",
    "version": 3
   },
   "file_extension": ".py",
   "mimetype": "text/x-python",
   "name": "python",
   "nbconvert_exporter": "python",
   "pygments_lexer": "ipython3",
   "version": "3.7.4"
  }
 },
 "nbformat": 4,
 "nbformat_minor": 2
}
