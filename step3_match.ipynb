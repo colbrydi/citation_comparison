{
 "cells": [
  {
   "cell_type": "code",
   "execution_count": 62,
   "metadata": {},
   "outputs": [],
   "source": [
    "%matplotlib inline\n",
    "import math\n",
    "import numpy as np\n",
    "import scipy\n",
    "from scipy.stats import binom, hypergeom\n",
    "import pandas as pd\n",
    "import matplotlib.pyplot as plt\n",
    "\n",
    "from sklearn.linear_model import LogisticRegression\n",
    "import statsmodels.api as sm"
   ]
  },
  {
   "cell_type": "markdown",
   "metadata": {},
   "source": [
    "# Matching"
   ]
  },
  {
   "cell_type": "markdown",
   "metadata": {},
   "source": [
    "READ two feature sets: \n",
    "- DT_base\n",
    "- DT_cplx"
   ]
  },
  {
   "cell_type": "code",
   "execution_count": 16,
   "metadata": {},
   "outputs": [
    {
     "name": "stdout",
     "output_type": "stream",
     "text": [
      "   n_citation  group  title_len  abs_len  no_author  no_ref\n",
      "0           1      1          7       95         19     168\n",
      "1           0      1         11      104         95     264\n",
      "2           9      1          7      201         33     405\n",
      "3           6      1          9      226         52     143\n",
      "4           2      1          7       94         16     155\n"
     ]
    }
   ],
   "source": [
    "## read \"DT_base\" -- DT with basic features\n",
    "DT_base = pd.read_csv('./Test_data/src_data/DT_base.csv')\n",
    "print(DT_base.head())\n",
    "\n",
    "##----- Not finished ##\n",
    "## read \"DT_cplx\" -- DT with complex features\n",
    "# DT_cplx = pd.read_csv('../Test_data/src_data/DT_cplx.csv')\n",
    "# DT_cplx.head()\n",
    "##-----\n",
    "\n",
    "#### DT_m: merge DT_base and DT_cplx\n",
    "colnames = DT_base.keys()\n",
    "DT_m = DT_base.loc[:, colnames[1:-1]]  #-- all features\n",
    "DT_y = DT_base['n_citation']           #-- only outcome-n_citation\n",
    "\n",
    "##----- Not finished ##\n",
    "# DT_m = merge(DT_base, DT_cplx)\n",
    "##-----"
   ]
  },
  {
   "cell_type": "code",
   "execution_count": 3,
   "metadata": {},
   "outputs": [
    {
     "data": {
      "text/html": [
       "<div>\n",
       "<style scoped>\n",
       "    .dataframe tbody tr th:only-of-type {\n",
       "        vertical-align: middle;\n",
       "    }\n",
       "\n",
       "    .dataframe tbody tr th {\n",
       "        vertical-align: top;\n",
       "    }\n",
       "\n",
       "    .dataframe thead th {\n",
       "        text-align: right;\n",
       "    }\n",
       "</style>\n",
       "<table border=\"1\" class=\"dataframe\">\n",
       "  <thead>\n",
       "    <tr style=\"text-align: right;\">\n",
       "      <th></th>\n",
       "      <th>group</th>\n",
       "      <th>title_len</th>\n",
       "      <th>abs_len</th>\n",
       "      <th>no_author</th>\n",
       "    </tr>\n",
       "  </thead>\n",
       "  <tbody>\n",
       "    <tr>\n",
       "      <td>0</td>\n",
       "      <td>1</td>\n",
       "      <td>7</td>\n",
       "      <td>95</td>\n",
       "      <td>19</td>\n",
       "    </tr>\n",
       "    <tr>\n",
       "      <td>1</td>\n",
       "      <td>1</td>\n",
       "      <td>11</td>\n",
       "      <td>104</td>\n",
       "      <td>95</td>\n",
       "    </tr>\n",
       "    <tr>\n",
       "      <td>2</td>\n",
       "      <td>1</td>\n",
       "      <td>7</td>\n",
       "      <td>201</td>\n",
       "      <td>33</td>\n",
       "    </tr>\n",
       "    <tr>\n",
       "      <td>3</td>\n",
       "      <td>1</td>\n",
       "      <td>9</td>\n",
       "      <td>226</td>\n",
       "      <td>52</td>\n",
       "    </tr>\n",
       "    <tr>\n",
       "      <td>4</td>\n",
       "      <td>1</td>\n",
       "      <td>7</td>\n",
       "      <td>94</td>\n",
       "      <td>16</td>\n",
       "    </tr>\n",
       "  </tbody>\n",
       "</table>\n",
       "</div>"
      ],
      "text/plain": [
       "   group  title_len  abs_len  no_author\n",
       "0      1          7       95         19\n",
       "1      1         11      104         95\n",
       "2      1          7      201         33\n",
       "3      1          9      226         52\n",
       "4      1          7       94         16"
      ]
     },
     "execution_count": 3,
     "metadata": {},
     "output_type": "execute_result"
    }
   ],
   "source": [
    "DT_m.head()"
   ]
  },
  {
   "cell_type": "code",
   "execution_count": 4,
   "metadata": {},
   "outputs": [
    {
     "data": {
      "text/plain": [
       "0    1\n",
       "1    0\n",
       "2    9\n",
       "3    6\n",
       "4    2\n",
       "Name: n_citation, dtype: int64"
      ]
     },
     "execution_count": 4,
     "metadata": {},
     "output_type": "execute_result"
    }
   ],
   "source": [
    "DT_y.head()"
   ]
  },
  {
   "cell_type": "markdown",
   "metadata": {},
   "source": [
    "## Method - use NearestNeighbors from sklearn\n",
    "- Reference: https://stats.stackexchange.com/questions/206832/matched-pairs-in-python-propensity-score-matching"
   ]
  },
  {
   "cell_type": "code",
   "execution_count": 24,
   "metadata": {},
   "outputs": [],
   "source": [
    "from sklearn.preprocessing import StandardScaler\n",
    "from sklearn.neighbors import NearestNeighbors\n",
    "\n",
    "def get_matching_pairs(treated_df, non_treated_df, scaler=True):\n",
    "\n",
    "    treated_x = treated_df.values\n",
    "    non_treated_x = non_treated_df.values\n",
    "    if scaler == True:\n",
    "        scaler = StandardScaler()\n",
    "    if scaler:\n",
    "        scaler.fit(treated_x)\n",
    "        treated_x = scaler.transform(treated_x)\n",
    "        non_treated_x = scaler.transform(non_treated_x)\n",
    "\n",
    "    nbrs = NearestNeighbors(n_neighbors=1, algorithm='ball_tree').fit(non_treated_x)\n",
    "    distances, indices = nbrs.kneighbors(treated_x)\n",
    "    indices = indices.reshape(indices.shape[0])\n",
    "    matched = non_treated_df.iloc[indices ]\n",
    "    # add indices\n",
    "    matched['idx'] = indices\n",
    "    \n",
    "    return matched"
   ]
  },
  {
   "cell_type": "code",
   "execution_count": 55,
   "metadata": {},
   "outputs": [
    {
     "name": "stdout",
     "output_type": "stream",
     "text": [
      "Before matching:  (4571, 3) (3519, 3)\n",
      "After matching:   (4571, 5) (4571, 5)\n"
     ]
    },
    {
     "name": "stderr",
     "output_type": "stream",
     "text": [
      "C:\\Users\\chenj107\\AppData\\Local\\Continuum\\anaconda3\\lib\\site-packages\\ipykernel_launcher.py:20: SettingWithCopyWarning: \n",
      "A value is trying to be set on a copy of a slice from a DataFrame.\n",
      "Try using .loc[row_indexer,col_indexer] = value instead\n",
      "\n",
      "See the caveats in the documentation: http://pandas.pydata.org/pandas-docs/stable/user_guide/indexing.html#returning-a-view-versus-a-copy\n",
      "C:\\Users\\chenj107\\AppData\\Local\\Continuum\\anaconda3\\lib\\site-packages\\pandas\\core\\indexing.py:576: SettingWithCopyWarning: \n",
      "A value is trying to be set on a copy of a slice from a DataFrame.\n",
      "Try using .loc[row_indexer,col_indexer] = value instead\n",
      "\n",
      "See the caveats in the documentation: http://pandas.pydata.org/pandas-docs/stable/user_guide/indexing.html#returning-a-view-versus-a-copy\n",
      "  self.obj[item_labels[indexer[info_axis]]] = value\n",
      "C:\\Users\\chenj107\\AppData\\Local\\Continuum\\anaconda3\\lib\\site-packages\\ipykernel_launcher.py:12: SettingWithCopyWarning: \n",
      "A value is trying to be set on a copy of a slice from a DataFrame.\n",
      "Try using .loc[row_indexer,col_indexer] = value instead\n",
      "\n",
      "See the caveats in the documentation: http://pandas.pydata.org/pandas-docs/stable/user_guide/indexing.html#returning-a-view-versus-a-copy\n",
      "  if sys.path[0] == '':\n",
      "C:\\Users\\chenj107\\AppData\\Local\\Continuum\\anaconda3\\lib\\site-packages\\ipykernel_launcher.py:13: SettingWithCopyWarning: \n",
      "A value is trying to be set on a copy of a slice from a DataFrame.\n",
      "Try using .loc[row_indexer,col_indexer] = value instead\n",
      "\n",
      "See the caveats in the documentation: http://pandas.pydata.org/pandas-docs/stable/user_guide/indexing.html#returning-a-view-versus-a-copy\n",
      "  del sys.path[0]\n"
     ]
    },
    {
     "data": {
      "text/html": [
       "<div>\n",
       "<style scoped>\n",
       "    .dataframe tbody tr th:only-of-type {\n",
       "        vertical-align: middle;\n",
       "    }\n",
       "\n",
       "    .dataframe tbody tr th {\n",
       "        vertical-align: top;\n",
       "    }\n",
       "\n",
       "    .dataframe thead th {\n",
       "        text-align: right;\n",
       "    }\n",
       "</style>\n",
       "<table border=\"1\" class=\"dataframe\">\n",
       "  <thead>\n",
       "    <tr style=\"text-align: right;\">\n",
       "      <th></th>\n",
       "      <th>title_len</th>\n",
       "      <th>abs_len</th>\n",
       "      <th>no_author</th>\n",
       "      <th>group</th>\n",
       "      <th>n_citation</th>\n",
       "    </tr>\n",
       "  </thead>\n",
       "  <tbody>\n",
       "    <tr>\n",
       "      <td>5068</td>\n",
       "      <td>7</td>\n",
       "      <td>89</td>\n",
       "      <td>20</td>\n",
       "      <td>0</td>\n",
       "      <td>0</td>\n",
       "    </tr>\n",
       "    <tr>\n",
       "      <td>6943</td>\n",
       "      <td>11</td>\n",
       "      <td>96</td>\n",
       "      <td>94</td>\n",
       "      <td>0</td>\n",
       "      <td>4</td>\n",
       "    </tr>\n",
       "    <tr>\n",
       "      <td>6215</td>\n",
       "      <td>7</td>\n",
       "      <td>206</td>\n",
       "      <td>33</td>\n",
       "      <td>0</td>\n",
       "      <td>38</td>\n",
       "    </tr>\n",
       "    <tr>\n",
       "      <td>7151</td>\n",
       "      <td>9</td>\n",
       "      <td>228</td>\n",
       "      <td>52</td>\n",
       "      <td>0</td>\n",
       "      <td>9</td>\n",
       "    </tr>\n",
       "    <tr>\n",
       "      <td>5359</td>\n",
       "      <td>7</td>\n",
       "      <td>88</td>\n",
       "      <td>14</td>\n",
       "      <td>0</td>\n",
       "      <td>1</td>\n",
       "    </tr>\n",
       "  </tbody>\n",
       "</table>\n",
       "</div>"
      ],
      "text/plain": [
       "      title_len  abs_len  no_author  group  n_citation\n",
       "5068          7       89         20      0           0\n",
       "6943         11       96         94      0           4\n",
       "6215          7      206         33      0          38\n",
       "7151          9      228         52      0           9\n",
       "5359          7       88         14      0           1"
      ]
     },
     "execution_count": 55,
     "metadata": {},
     "output_type": "execute_result"
    }
   ],
   "source": [
    "\n",
    "treated_df = DT_m.loc[ DT_m['group'] == 1,  colnames[2:-1]]\n",
    "non_treated_df = DT_m.loc[ DT_m['group'] == 0,  colnames[2:-1]]\n",
    "print(\"Before matching: \", treated_df.shape, non_treated_df.shape)\n",
    "\n",
    "## apply \"get_matching_pairs()\"\n",
    "matched_df = get_matching_pairs(treated_df, non_treated_df)\n",
    "## adjust idx\n",
    "matched_df.loc[:, 'idx'] = matched_df['idx'].apply(lambda x: x + len(treated_df))\n",
    "\n",
    "\n",
    "## get the DV: n_citation for \"matched_df\" (merge with DT_y)\n",
    "matched_df['group'] = 0\n",
    "matched_df['n_citation'] = matched_df['idx'].apply(lambda x: DT_y.iloc[x])\n",
    "matched_df = matched_df.drop(columns = \"idx\")\n",
    "\n",
    "\n",
    "## get the DV: n_citation for \"treated_df\"\n",
    "treated_df['group'] = 1\n",
    "treated_df['n_citation'] = DT_y.iloc[0:len(treated_df)]\n",
    "\n",
    "print(\"After matching:  \", matched_df.shape, treated_df.shape)\n",
    "matched_df.head()"
   ]
  },
  {
   "cell_type": "code",
   "execution_count": 56,
   "metadata": {},
   "outputs": [
    {
     "data": {
      "text/html": [
       "<div>\n",
       "<style scoped>\n",
       "    .dataframe tbody tr th:only-of-type {\n",
       "        vertical-align: middle;\n",
       "    }\n",
       "\n",
       "    .dataframe tbody tr th {\n",
       "        vertical-align: top;\n",
       "    }\n",
       "\n",
       "    .dataframe thead th {\n",
       "        text-align: right;\n",
       "    }\n",
       "</style>\n",
       "<table border=\"1\" class=\"dataframe\">\n",
       "  <thead>\n",
       "    <tr style=\"text-align: right;\">\n",
       "      <th></th>\n",
       "      <th>title_len</th>\n",
       "      <th>abs_len</th>\n",
       "      <th>no_author</th>\n",
       "      <th>group</th>\n",
       "      <th>n_citation</th>\n",
       "    </tr>\n",
       "  </thead>\n",
       "  <tbody>\n",
       "    <tr>\n",
       "      <td>0</td>\n",
       "      <td>7</td>\n",
       "      <td>95</td>\n",
       "      <td>19</td>\n",
       "      <td>1</td>\n",
       "      <td>1</td>\n",
       "    </tr>\n",
       "    <tr>\n",
       "      <td>1</td>\n",
       "      <td>11</td>\n",
       "      <td>104</td>\n",
       "      <td>95</td>\n",
       "      <td>1</td>\n",
       "      <td>0</td>\n",
       "    </tr>\n",
       "    <tr>\n",
       "      <td>2</td>\n",
       "      <td>7</td>\n",
       "      <td>201</td>\n",
       "      <td>33</td>\n",
       "      <td>1</td>\n",
       "      <td>9</td>\n",
       "    </tr>\n",
       "    <tr>\n",
       "      <td>3</td>\n",
       "      <td>9</td>\n",
       "      <td>226</td>\n",
       "      <td>52</td>\n",
       "      <td>1</td>\n",
       "      <td>6</td>\n",
       "    </tr>\n",
       "    <tr>\n",
       "      <td>4</td>\n",
       "      <td>7</td>\n",
       "      <td>94</td>\n",
       "      <td>16</td>\n",
       "      <td>1</td>\n",
       "      <td>2</td>\n",
       "    </tr>\n",
       "  </tbody>\n",
       "</table>\n",
       "</div>"
      ],
      "text/plain": [
       "   title_len  abs_len  no_author  group  n_citation\n",
       "0          7       95         19      1           1\n",
       "1         11      104         95      1           0\n",
       "2          7      201         33      1           9\n",
       "3          9      226         52      1           6\n",
       "4          7       94         16      1           2"
      ]
     },
     "execution_count": 56,
     "metadata": {},
     "output_type": "execute_result"
    }
   ],
   "source": [
    "treated_df.head()"
   ]
  },
  {
   "cell_type": "code",
   "execution_count": 57,
   "metadata": {},
   "outputs": [
    {
     "data": {
      "text/plain": [
       "<matplotlib.legend.Legend at 0x20a2ecd3c88>"
      ]
     },
     "execution_count": 57,
     "metadata": {},
     "output_type": "execute_result"
    },
    {
     "data": {
      "image/png": "[encoded data removed]",
      "text/plain": [
       "<Figure size 432x432 with 1 Axes>"
      ]
     },
     "metadata": {
      "needs_background": "light"
     },
     "output_type": "display_data"
    }
   ],
   "source": [
    "fig, ax = plt.subplots(figsize=(6,6))\n",
    "plt.scatter(non_treated_df['title_len'], non_treated_df['abs_len'], alpha=0.3, label='All non-treated')\n",
    "plt.scatter(treated_df['title_len'], treated_df['abs_len'], label='Treated')\n",
    "plt.scatter(matched_df['title_len'], matched_df['abs_len'], marker='x', label='matched')\n",
    "plt.legend()\n",
    "# plt.xlim(-1,2)"
   ]
  },
  {
   "cell_type": "code",
   "execution_count": 58,
   "metadata": {},
   "outputs": [
    {
     "data": {
      "text/plain": [
       "<matplotlib.legend.Legend at 0x20a2ee5e908>"
      ]
     },
     "execution_count": 58,
     "metadata": {},
     "output_type": "execute_result"
    },
    {
     "data": {
      "image/png": "[encoded data removed]",
      "text/plain": [
       "<Figure size 432x432 with 1 Axes>"
      ]
     },
     "metadata": {
      "needs_background": "light"
     },
     "output_type": "display_data"
    }
   ],
   "source": [
    "fig, ax = plt.subplots(figsize=(6,6))\n",
    "plt.scatter(non_treated_df['title_len'], non_treated_df['no_author'], alpha=0.3, label='All non-treated')\n",
    "plt.scatter(treated_df['title_len'], treated_df['no_author'], label='Treated')\n",
    "plt.scatter(matched_df['title_len'], matched_df['no_author'], marker='x', label='matched')\n",
    "plt.legend()"
   ]
  }
 ],
 "metadata": {
  "kernelspec": {
   "display_name": "Python 3",
   "language": "python",
   "name": "python3"
  },
  "language_info": {
   "codemirror_mode": {
    "name": "ipython",
    "version": 3
   },
   "file_extension": ".py",
   "mimetype": "text/x-python",
   "name": "python",
   "nbconvert_exporter": "python",
   "pygments_lexer": "ipython3",
   "version": "3.7.4"
  }
 },
 "nbformat": 4,
 "nbformat_minor": 2
}
